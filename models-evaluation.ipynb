{
  "cells": [
    {
      "cell_type": "markdown",
      "metadata": {
        "_cell_guid": "4bef7992-fd1a-44fd-9da7-96fbbae6e0ec",
        "_uuid": "88b99755-8202-4ddf-a578-eb88c8d5c7ed",
        "collapsed": false,
        "id": "5e2Gc4EPfyxl",
        "jupyter": {
          "outputs_hidden": false
        },
        "trusted": true
      },
      "source": [
        "# Подготовка датасета"
      ]
    },
    {
      "cell_type": "code",
      "execution_count": null,
      "metadata": {
        "_cell_guid": "493f2279-ae45-48f1-a03a-10413c2a4d3b",
        "_uuid": "2b1445fe-507d-4d0b-8633-7e7ea3dcc40c",
        "execution": {
          "iopub.execute_input": "2024-12-04T13:09:35.072300Z",
          "iopub.status.busy": "2024-12-04T13:09:35.071598Z",
          "iopub.status.idle": "2024-12-04T13:09:46.817749Z",
          "shell.execute_reply": "2024-12-04T13:09:46.816565Z",
          "shell.execute_reply.started": "2024-12-04T13:09:35.072232Z"
        },
        "id": "b8V36cmgynSD",
        "trusted": true
      },
      "outputs": [],
      "source": [
        "!pip install json5 gdown sentence-transformers -q"
      ]
    },
    {
      "cell_type": "code",
      "execution_count": 1,
      "metadata": {
        "_cell_guid": "56d8808c-d33b-497f-aa3d-19de2f2023c8",
        "_uuid": "590a47b4-6c5b-4716-8c0a-117716a6bba0",
        "execution": {
          "iopub.execute_input": "2024-12-04T13:09:46.819971Z",
          "iopub.status.busy": "2024-12-04T13:09:46.819688Z",
          "iopub.status.idle": "2024-12-04T13:10:16.172718Z",
          "shell.execute_reply": "2024-12-04T13:10:16.171740Z",
          "shell.execute_reply.started": "2024-12-04T13:09:46.819944Z"
        },
        "id": "YQ3a_27dyOco",
        "trusted": true
      },
      "outputs": [],
      "source": [
        "import json5\n",
        "from tqdm import tqdm\n",
        "import pandas as pd\n",
        "# from unittest import TestCase, TextTestRunner, defaultTestLoader\n",
        "import re, time\n",
        "# from sentence_transformers import SentenceTransformer\n",
        "# from transformers import AutoTokenizer, AutoModelForCausalLM\n",
        "import numpy as np\n",
        "from utils.general import *\n",
        "# import torch\n",
        "from sqlalchemy import create_engine\n",
        "from prompting import PromptBuilder\n",
        "from sklearn.utils import shuffle\n",
        "from sqlalchemy import text\n",
        "from utils.dataset import prepare_column_names, structure_from_connection\n",
        "import matplotlib.pyplot as plt"
      ]
    },
    {
      "cell_type": "code",
      "execution_count": 2,
      "metadata": {},
      "outputs": [],
      "source": [
        "table = pd.read_excel('2023_04_Продажи_код_артикул.xlsx')\n",
        "engine = create_engine('sqlite://', echo=False)\n",
        "table.to_sql(name='sales', con=engine)\n",
        "conn = engine.connect()"
      ]
    },
    {
      "cell_type": "code",
      "execution_count": 3,
      "metadata": {},
      "outputs": [
        {
          "data": {
            "text/plain": [
              "True"
            ]
          },
          "execution_count": 3,
          "metadata": {},
          "output_type": "execute_result"
        }
      ],
      "source": [
        "prepare_column_names(conn) # Устраняет пробелы в названии столбцов"
      ]
    },
    {
      "cell_type": "code",
      "execution_count": 4,
      "metadata": {},
      "outputs": [],
      "source": [
        "query = r'''SELECT \n",
        "    t1.Артикул AS артикул_1, \n",
        "    t2.Артикул AS артикул_2, \n",
        "    COUNT(*) AS совместные_продажи\n",
        "FROM sales t1\n",
        "JOIN sales t2 ON t1.Регистратор = t2.Регистратор\n",
        "WHERE t1.Артикул < t2.Артикул\n",
        "  AND t1.Артикул IS NOT NULL\n",
        "  AND t2.Артикул IS NOT NULL\n",
        "  AND t1.Артикул NOT LIKE 'u%'\n",
        "  AND t2.Артикул NOT LIKE 'u%'\n",
        "  AND t1.Хозяйственнаяоперация != 'Закрытие месяца'\n",
        "  AND t2.Хозяйственнаяоперация != 'Закрытие месяца'\n",
        "GROUP BY t1.Артикул, t2.Артикул\n",
        "ORDER BY совместные_продажи DESC\n",
        "LIMIT 10;'''"
      ]
    },
    {
      "cell_type": "code",
      "execution_count": 5,
      "metadata": {},
      "outputs": [
        {
          "data": {
            "text/plain": [
              "'### Схема таблиц:\\nsales(Артикул, Регистратор, Хозяйственнаяоперация);\\n\\n### Вопрос: Oh shit, i`m sorry... Sorry for what?\\n### SQL:\\n\\n'"
            ]
          },
          "execution_count": 5,
          "metadata": {},
          "output_type": "execute_result"
        }
      ],
      "source": [
        "### Пример использования schema linking\n",
        "structure = structure_from_connection(conn)\n",
        "linked_schema = parse_literals(query, structure)\n",
        "\n",
        "prompt = PromptBuilder(question=\"Oh shit, i`m sorry... Sorry for what?\")\n",
        "prompt.switch_schema_linking(linked_schema).add_schema_template(conn).build_prompt(3)"
      ]
    },
    {
      "cell_type": "code",
      "execution_count": null,
      "metadata": {
        "_cell_guid": "099580ae-cc40-4cb7-bdde-cf2b57ab7a45",
        "_uuid": "9e745e69-8b15-40b1-a7c5-50422b812c19",
        "execution": {
          "iopub.status.busy": "2024-12-03T12:29:09.954273Z",
          "iopub.status.idle": "2024-12-03T12:29:09.954669Z",
          "shell.execute_reply": "2024-12-03T12:29:09.954483Z",
          "shell.execute_reply.started": "2024-12-03T12:29:09.954462Z"
        },
        "id": "s3HuFCRpfyxu",
        "jupyter": {
          "outputs_hidden": false
        },
        "trusted": true
      },
      "outputs": [],
      "source": [
        "# conn, dataset = load_table(r'./pauq_databases/merged_database/geo',\n",
        "#                            r'./distilled-dataset/dataset/pauq_train.json', 'geo')\n",
        "# db = conn.cursor()"
      ]
    },
    {
      "cell_type": "markdown",
      "metadata": {
        "_cell_guid": "60baf893-838f-4564-b751-92fdb1ab2a4d",
        "_uuid": "ea5468d0-d708-4c03-aac9-6cca9e60a383",
        "collapsed": false,
        "id": "bbFNaY5A4KVs",
        "jupyter": {
          "outputs_hidden": false
        },
        "trusted": true
      },
      "source": [
        "# Препроцессинг промпта"
      ]
    },
    {
      "cell_type": "code",
      "execution_count": null,
      "metadata": {
        "_cell_guid": "64840261-2c1b-4465-a27f-d7ad5c98cb1b",
        "_uuid": "48755d5c-c9c8-4028-8ff7-a6b5aebc4d9d",
        "execution": {
          "iopub.status.busy": "2024-12-03T12:29:09.956075Z",
          "iopub.status.idle": "2024-12-03T12:29:09.956362Z",
          "shell.execute_reply": "2024-12-03T12:29:09.956242Z",
          "shell.execute_reply.started": "2024-12-03T12:29:09.956227Z"
        },
        "id": "dZjzp_vLfyxw",
        "jupyter": {
          "outputs_hidden": false
        },
        "trusted": true
      },
      "outputs": [],
      "source": [
        "sentence_model = SentenceTransformer('sentence-transformers/all-MiniLM-L6-v2')"
      ]
    },
    {
      "cell_type": "code",
      "execution_count": null,
      "metadata": {
        "_cell_guid": "badd3dde-3fb0-433b-9a81-50d83886e96e",
        "_uuid": "8e31e90d-f714-43c9-b231-be1788cbcdc6",
        "execution": {
          "iopub.execute_input": "2024-12-02T18:02:45.231125Z",
          "iopub.status.busy": "2024-12-02T18:02:45.230817Z",
          "iopub.status.idle": "2024-12-02T18:02:45.255546Z",
          "shell.execute_reply": "2024-12-02T18:02:45.254705Z",
          "shell.execute_reply.started": "2024-12-02T18:02:45.231097Z"
        },
        "id": "HBRQjrXdfyxx",
        "jupyter": {
          "outputs_hidden": false
        },
        "trusted": true
      },
      "outputs": [],
      "source": [
        "class HuggingFaceModelInference:\n",
        "    def __init__(self, path):\n",
        "        self.path = path\n",
        "        self.evaluated = False\n",
        "        self.is_downloaded = False\n",
        "\n",
        "    def __load_model(self):\n",
        "        self.tokenizer = AutoTokenizer.from_pretrained(self.path, trust_remote_code=True)\n",
        "        self.model = AutoModelForCausalLM.from_pretrained(self.path,torch_dtype=torch.float16,trust_remote_code=True, device_map='auto')\n",
        "\n",
        "    def evaluate(self, dataset):\n",
        "        \"\"\"Запуск модели на заданном датасете\"\"\"\n",
        "        if not self.is_downloaded:\n",
        "            self.__load_model()\n",
        "            self.is_downloaded = True\n",
        "\n",
        "        logger, exec_time = [], []\n",
        "        summary = 0\n",
        "        for sample in tqdm(dataset):\n",
        "            question = sample['question_ru']\n",
        "            truth_sql = sample['query_ru']\n",
        "\n",
        "            builder = PromptBuilder(question)\n",
        "            prompt = builder\\.add_schema_template(conn)\\\n",
        "                             .add_few_shot(sentence_model, question, dataset)\\\n",
        "                             .add_cell_value_referencing(conn, count=3)\\\n",
        "                             .build_prompt(1)\n",
        "\n",
        "            if self.tokenizer.pad_token is None:\n",
        "                self.tokenizer.pad_token = self.tokenizer.eos_token\n",
        "\n",
        "            st = time.time()\n",
        "            inputs = self.tokenizer(prompt, return_tensors='pt').to('cuda')\n",
        "            generate_ids = self.model.generate(inputs.input_ids, max_length=2048, pad_token_id=self.tokenizer.pad_token_id)\n",
        "            output = self.tokenizer.batch_decode(generate_ids, skip_special_tokens=True, clean_up_tokenization_spaces=False)[0]\n",
        "            exec_time.append(time.time() - st)\n",
        "\n",
        "            pred_sql = re.search(r'SQL:(.+)', output, re.DOTALL).group(1).strip()\n",
        "            logger.append([pred_sql, truth_sql])\n",
        "            try:\n",
        "                df_pred = pd.read_sql(pred_sql, conn)\n",
        "                df_truth = pd.read_sql(truth_sql, conn)\n",
        "                summary += table_similarity(df_pred, df_truth, mode='flexible')\n",
        "            except:\n",
        "                pass\n",
        "\n",
        "        self.summary = summary\n",
        "        self.samples_len = len(dataset)\n",
        "        self.exec_time = exec_time\n",
        "        self.logger = logger\n",
        "        self.evaluated = True\n",
        "\n",
        "    def accuracy(self):\n",
        "        \"\"\"Метрика, характеризующая корректную кодогенерацию модели\"\"\"\n",
        "        if not self.evaluated:\n",
        "            raise Exception('Model was not been evaluated')\n",
        "        return self.summary / self.samples_len\n",
        "\n",
        "    def sql_similarity(self):\n",
        "        \"\"\"Метрика, характеризующая синтаксическую схожесть сгенерированного и истинного кода\"\"\"\n",
        "        if not self.evaluated:\n",
        "            raise Exception('Model was not been evaluated')\n",
        "        vectorized = [[sentence_model.encode(pair[0]), sentence_model.encode(pair[1])] for pair in self.logger]\n",
        "        similarities = [sentence_model.similarity(pair[0], pair[1]) for pair in vectorized]\n",
        "        return np.mean(similarities)"
      ]
    },
    {
      "cell_type": "code",
      "execution_count": null,
      "metadata": {
        "_cell_guid": "2290c3dd-c7b0-40df-97c4-6a91dadca036",
        "_uuid": "7e53bbc2-eb78-408c-899c-9b951b7efad4",
        "execution": {
          "iopub.execute_input": "2024-12-02T16:15:04.538483Z",
          "iopub.status.busy": "2024-12-02T16:15:04.538085Z",
          "iopub.status.idle": "2024-12-02T16:15:04.543620Z",
          "shell.execute_reply": "2024-12-02T16:15:04.542578Z",
          "shell.execute_reply.started": "2024-12-02T16:15:04.538450Z"
        },
        "id": "dcQJKD8Nfyxz",
        "jupyter": {
          "outputs_hidden": false
        },
        "trusted": true
      },
      "outputs": [],
      "source": [
        "def dump_inference(name: str, exec_time: list, sql_sim, acc):\n",
        "    dump = json5.dumps({\n",
        "        'name': name,\n",
        "        'exec_time': exec_time,\n",
        "        'sql_similarity': str(sql_sim),\n",
        "        'accuracy': str(acc)\n",
        "    })\n",
        "    with open(f'{name}_dump.txt', 'w') as w:\n",
        "        w.write(dump)"
      ]
    },
    {
      "cell_type": "markdown",
      "metadata": {
        "_cell_guid": "59e279e6-9308-465d-aad6-7fa856d74ad2",
        "_uuid": "f9b0239a-cfac-4e3e-8b90-0e9d6ee06664",
        "collapsed": false,
        "id": "OXTC7kCufyx0",
        "jupyter": {
          "outputs_hidden": false
        },
        "trusted": true
      },
      "source": [
        "## 1. SQLCoder 7b https://huggingface.co/defog/sqlcoder-7b-2"
      ]
    },
    {
      "cell_type": "code",
      "execution_count": null,
      "metadata": {
        "_cell_guid": "27adee9a-3a22-4869-a3a6-a5d9b84fdafd",
        "_uuid": "02b26db7-9f82-4958-bd91-e60dc1e4c969",
        "collapsed": true,
        "execution": {
          "iopub.execute_input": "2024-12-02T18:02:45.258207Z",
          "iopub.status.busy": "2024-12-02T18:02:45.257843Z",
          "iopub.status.idle": "2024-12-02T18:10:00.680821Z",
          "shell.execute_reply": "2024-12-02T18:10:00.679883Z",
          "shell.execute_reply.started": "2024-12-02T18:02:45.258165Z"
        },
        "id": "vCQKMr7_fyx0",
        "jupyter": {
          "outputs_hidden": true
        },
        "trusted": true
      },
      "outputs": [],
      "source": [
        "sqlcoder = HuggingFaceModelInference('defog/sqlcoder-7b-2')\n",
        "sqlcoder.evaluate(shuffle(dataset))"
      ]
    },
    {
      "cell_type": "code",
      "execution_count": null,
      "metadata": {
        "collapsed": true,
        "execution": {
          "iopub.execute_input": "2024-12-02T18:11:26.985804Z",
          "iopub.status.busy": "2024-12-02T18:11:26.984881Z",
          "iopub.status.idle": "2024-12-02T18:11:28.237055Z",
          "shell.execute_reply": "2024-12-02T18:11:28.236120Z",
          "shell.execute_reply.started": "2024-12-02T18:11:26.985769Z"
        },
        "id": "aM5iPZbKfyx1",
        "jupyter": {
          "outputs_hidden": true
        },
        "trusted": true
      },
      "outputs": [],
      "source": [
        "sqlcoder.accuracy(), sqlcoder.sql_similarity(), np.mean(sqlcoder.exec_time)"
      ]
    },
    {
      "cell_type": "code",
      "execution_count": null,
      "metadata": {
        "collapsed": true,
        "execution": {
          "iopub.execute_input": "2024-12-02T18:11:45.734500Z",
          "iopub.status.busy": "2024-12-02T18:11:45.734136Z",
          "iopub.status.idle": "2024-12-02T18:11:45.741494Z",
          "shell.execute_reply": "2024-12-02T18:11:45.740679Z",
          "shell.execute_reply.started": "2024-12-02T18:11:45.734468Z"
        },
        "id": "dbrujfaxfyx2",
        "jupyter": {
          "outputs_hidden": true
        },
        "trusted": true
      },
      "outputs": [],
      "source": [
        "sqlcoder.logger"
      ]
    },
    {
      "cell_type": "markdown",
      "metadata": {
        "_cell_guid": "90a18636-3f22-45aa-ab2c-a107fa4c6a81",
        "_uuid": "9b45e537-617f-4fe0-b9d0-d623679498d4",
        "collapsed": false,
        "id": "LC3aWFzjfyx2",
        "jupyter": {
          "outputs_hidden": false
        },
        "trusted": true
      },
      "source": [
        "## 2. SQLTroughAI (сайт не работает?) https://sqlthroughai.com/"
      ]
    },
    {
      "cell_type": "markdown",
      "metadata": {
        "_cell_guid": "d55558bc-4b00-4394-bc4f-c0073a11401d",
        "_uuid": "4ae33630-d334-42a2-8cb6-b598829eff96",
        "collapsed": false,
        "id": "NeSXnH5efyx2",
        "jupyter": {
          "outputs_hidden": false
        },
        "trusted": true
      },
      "source": [
        "## 3. Chat2DB 7b"
      ]
    },
    {
      "cell_type": "code",
      "execution_count": null,
      "metadata": {
        "_cell_guid": "6331cae7-1f53-4810-bbac-16746766a115",
        "_uuid": "df11395b-e166-4e60-a8c1-177616885682",
        "collapsed": true,
        "execution": {
          "iopub.execute_input": "2024-12-02T17:12:09.427825Z",
          "iopub.status.busy": "2024-12-02T17:12:09.427437Z",
          "iopub.status.idle": "2024-12-02T17:13:14.571814Z",
          "shell.execute_reply": "2024-12-02T17:13:14.570891Z",
          "shell.execute_reply.started": "2024-12-02T17:12:09.427793Z"
        },
        "id": "g2R-FoySfyx2",
        "jupyter": {
          "outputs_hidden": true
        },
        "trusted": true
      },
      "outputs": [],
      "source": [
        "# chat2db = HuggingFaceModelInference('Chat2DB/Chat2DB-SQL-7B')\n",
        "# chat2db.evaluate(shuffle(dataset)[:20])"
      ]
    },
    {
      "cell_type": "code",
      "execution_count": null,
      "metadata": {
        "collapsed": true,
        "execution": {
          "iopub.execute_input": "2024-12-02T17:13:24.942041Z",
          "iopub.status.busy": "2024-12-02T17:13:24.941195Z",
          "iopub.status.idle": "2024-12-02T17:13:25.801628Z",
          "shell.execute_reply": "2024-12-02T17:13:25.800743Z",
          "shell.execute_reply.started": "2024-12-02T17:13:24.942006Z"
        },
        "id": "hMmXGF2efyx3",
        "jupyter": {
          "outputs_hidden": true
        },
        "trusted": true
      },
      "outputs": [],
      "source": [
        "# chat2db.accuracy(), chat2db.sql_similarity(), np.mean(chat2db.exec_time)"
      ]
    },
    {
      "cell_type": "code",
      "execution_count": null,
      "metadata": {
        "_cell_guid": "4fa7c30a-25e6-4896-a7ef-a48677e4a609",
        "_uuid": "9851857f-6885-4d68-b229-64584ef63b7a",
        "id": "J8Fqx7jtfyx3",
        "jupyter": {
          "outputs_hidden": false
        },
        "trusted": true
      },
      "outputs": [],
      "source": [
        "# dump_inference('Chat2DB-SQL-7B', chat2db.exec_time, chat2db.sql_similarity(), chat2db.accuracy())"
      ]
    },
    {
      "cell_type": "markdown",
      "metadata": {
        "_cell_guid": "d2ef533b-4074-4840-869e-2991e312dad4",
        "_uuid": "90e6e293-677b-4df0-b68f-64996050e1cf",
        "collapsed": false,
        "id": "g-VCg48Zfyx3",
        "jupyter": {
          "outputs_hidden": false
        },
        "trusted": true
      },
      "source": [
        "## 4. SQLova (пока пропустим)"
      ]
    },
    {
      "cell_type": "code",
      "execution_count": null,
      "metadata": {
        "_cell_guid": "ba7cb3b3-ab6d-44f0-8a29-d5a379d52145",
        "_uuid": "77e847b6-baef-4107-be0a-87e7f35071e1",
        "id": "cX6Z6hncfyx3",
        "jupyter": {
          "outputs_hidden": false
        },
        "trusted": true
      },
      "outputs": [],
      "source": [
        "# !wget https://github.com/naver/sqlova/releases/download/SQLova-parameters/model_bert_best.pt"
      ]
    },
    {
      "cell_type": "code",
      "execution_count": null,
      "metadata": {
        "_cell_guid": "2f8b34f0-37c8-48d5-af01-c172d2a0dd16",
        "_uuid": "cf0f4a02-81fd-438f-af8a-682d0e852963",
        "id": "H3VQQEZYfyx3",
        "jupyter": {
          "outputs_hidden": false
        },
        "trusted": true
      },
      "outputs": [],
      "source": [
        "# from transformers import AutoTokenizer, BertModel\n",
        "\n",
        "# model = torch.load('model_bert_best.pt', map_location='cpu', weights_only=True)"
      ]
    },
    {
      "cell_type": "markdown",
      "metadata": {
        "_cell_guid": "36e6679e-f787-4878-9ece-778d696f902a",
        "_uuid": "fb512d0f-8426-42c4-b47f-8842ea420b28",
        "collapsed": false,
        "id": "tYwLcup9fyx4",
        "jupyter": {
          "outputs_hidden": false
        },
        "trusted": true
      },
      "source": [
        "## 5. DuckDB-NSQL 7b"
      ]
    },
    {
      "cell_type": "code",
      "execution_count": null,
      "metadata": {
        "_cell_guid": "2d0f45a8-7c98-432e-89ab-59345f8f6888",
        "_uuid": "dab98270-0c45-4157-828c-4fc879b8969a",
        "execution": {
          "iopub.execute_input": "2024-12-02T17:21:47.697990Z",
          "iopub.status.busy": "2024-12-02T17:21:47.697359Z",
          "iopub.status.idle": "2024-12-02T17:21:47.701968Z",
          "shell.execute_reply": "2024-12-02T17:21:47.701064Z",
          "shell.execute_reply.started": "2024-12-02T17:21:47.697946Z"
        },
        "id": "Tot4dlxMfyx4",
        "jupyter": {
          "outputs_hidden": false
        },
        "trusted": true
      },
      "outputs": [],
      "source": [
        "# duckdb = HuggingFaceModelInference('motherduckdb/DuckDB-NSQL-7B-v0.1')"
      ]
    },
    {
      "cell_type": "code",
      "execution_count": null,
      "metadata": {
        "collapsed": true,
        "execution": {
          "iopub.execute_input": "2024-12-02T17:32:16.001291Z",
          "iopub.status.busy": "2024-12-02T17:32:16.000509Z",
          "iopub.status.idle": "2024-12-02T17:33:47.564041Z",
          "shell.execute_reply": "2024-12-02T17:33:47.562937Z",
          "shell.execute_reply.started": "2024-12-02T17:32:16.001257Z"
        },
        "id": "hPpuGQcSfyx4",
        "jupyter": {
          "outputs_hidden": true
        },
        "trusted": true
      },
      "outputs": [],
      "source": [
        "# duckdb.evaluate(shuffle(dataset)[:30])"
      ]
    },
    {
      "cell_type": "code",
      "execution_count": null,
      "metadata": {
        "execution": {
          "iopub.execute_input": "2024-12-02T17:39:31.191655Z",
          "iopub.status.busy": "2024-12-02T17:39:31.190792Z",
          "iopub.status.idle": "2024-12-02T17:39:32.556694Z",
          "shell.execute_reply": "2024-12-02T17:39:32.555918Z",
          "shell.execute_reply.started": "2024-12-02T17:39:31.191610Z"
        },
        "id": "8Q31HSR_fyx4",
        "trusted": true
      },
      "outputs": [],
      "source": [
        "# duckdb.accuracy(), duckdb.sql_similarity(), np.mean(duckdb.exec_time)"
      ]
    },
    {
      "cell_type": "code",
      "execution_count": null,
      "metadata": {
        "_cell_guid": "d43194c8-3f1f-4412-8b2e-a81bc275fe23",
        "_uuid": "11b3e41a-58b2-4081-9782-366f5920fb0e",
        "id": "-1cY9b33fyx4",
        "jupyter": {
          "outputs_hidden": false
        },
        "trusted": true
      },
      "outputs": [],
      "source": [
        "# dump_inference('DuckDB-NSQL-7B-v0.1', duckdb.exec_time, duckdb.sql_similarity(), duckdb.accuracy())"
      ]
    },
    {
      "cell_type": "markdown",
      "metadata": {
        "_cell_guid": "af04599a-a9e7-408d-bc82-75798187e28e",
        "_uuid": "5f4db0d8-6be6-4fac-ae04-0992df690acc",
        "collapsed": false,
        "execution": {
          "iopub.execute_input": "2024-11-08T16:51:16.947229Z",
          "iopub.status.busy": "2024-11-08T16:51:16.946746Z",
          "iopub.status.idle": "2024-11-08T16:51:16.952142Z",
          "shell.execute_reply": "2024-11-08T16:51:16.951198Z",
          "shell.execute_reply.started": "2024-11-08T16:51:16.947189Z"
        },
        "id": "311didGcfyx5",
        "jupyter": {
          "outputs_hidden": false
        },
        "trusted": true
      },
      "source": [
        "## 6. Internlm 8b"
      ]
    },
    {
      "cell_type": "code",
      "execution_count": null,
      "metadata": {
        "_cell_guid": "af6a95a6-d496-43ce-ab55-04a7727b1667",
        "_uuid": "3ea3c4e9-7685-4101-b702-b767efc99200",
        "id": "ZLIv6Z_Dfyx5",
        "jupyter": {
          "outputs_hidden": false
        },
        "trusted": true
      },
      "outputs": [],
      "source": [
        "#!pip install einops -q"
      ]
    },
    {
      "cell_type": "code",
      "execution_count": null,
      "metadata": {
        "_cell_guid": "4c24ecaa-757e-4e30-8178-0160a155118a",
        "_uuid": "85790c77-1a2f-4529-9f3b-5550e1ee2414",
        "id": "QncMmDomfyx5",
        "jupyter": {
          "outputs_hidden": false
        },
        "trusted": true
      },
      "outputs": [],
      "source": [
        "# internlm = HuggingFaceModelInference('internlm/internlm2_5-7b')\n",
        "# internlm.evaluate(dataset[:20])"
      ]
    },
    {
      "cell_type": "code",
      "execution_count": null,
      "metadata": {
        "_cell_guid": "fb7eba11-32e9-41e6-87a6-5773120d014b",
        "_uuid": "d3d1e506-3e4b-4323-8083-5352911894c1",
        "id": "KftZCaJofyx5",
        "jupyter": {
          "outputs_hidden": false
        },
        "trusted": true
      },
      "outputs": [],
      "source": [
        "# dump_inference('internlm2_5-7b', internlm.exec_time, internlm.sql_similarity(), internlm.accuracy())"
      ]
    },
    {
      "cell_type": "markdown",
      "metadata": {
        "_cell_guid": "911306e3-b047-451a-abcf-00dbf37fe1c7",
        "_uuid": "1ef8f63d-9d86-4070-9e67-c10675859a72",
        "collapsed": false,
        "id": "iyJhh7Srfyx6",
        "jupyter": {
          "outputs_hidden": false
        },
        "trusted": true
      },
      "source": [
        "## Прочее"
      ]
    },
    {
      "cell_type": "code",
      "execution_count": null,
      "metadata": {
        "_cell_guid": "823de476-d607-4c57-9d9e-90c55ecb6b3b",
        "_uuid": "d845407a-9c1d-459b-8c9c-ec713618828e",
        "execution": {
          "iopub.execute_input": "2024-12-02T16:44:21.761572Z",
          "iopub.status.busy": "2024-12-02T16:44:21.760909Z",
          "iopub.status.idle": "2024-12-02T16:44:24.122804Z",
          "shell.execute_reply": "2024-12-02T16:44:24.121915Z",
          "shell.execute_reply.started": "2024-12-02T16:44:21.761539Z"
        },
        "id": "P7KlZTlxfyx6",
        "jupyter": {
          "outputs_hidden": false
        },
        "trusted": true
      },
      "outputs": [],
      "source": [
        "from numba import cuda\n",
        "import gc\n",
        "cuda.devices.gpus[0].reset()\n",
        "cuda.devices.gpus[1].reset()\n",
        "gc.collect()"
      ]
    },
    {
      "cell_type": "code",
      "execution_count": null,
      "metadata": {
        "_cell_guid": "9c3db32c-9e40-4077-a199-c65bfb1cf5da",
        "_uuid": "3a8ad0ec-72ee-4893-b277-e75a8d5c3177",
        "execution": {
          "iopub.execute_input": "2024-12-04T13:15:10.498038Z",
          "iopub.status.busy": "2024-12-04T13:15:10.497382Z",
          "iopub.status.idle": "2024-12-04T13:15:10.531308Z",
          "shell.execute_reply": "2024-12-04T13:15:10.530565Z",
          "shell.execute_reply.started": "2024-12-04T13:15:10.498004Z"
        },
        "id": "uLloy5Bofyx6",
        "jupyter": {
          "outputs_hidden": false
        },
        "trusted": true
      },
      "outputs": [],
      "source": [
        "class TestTableSimilarity(TestCase):  # Тестирование функции сравнения таблиц\n",
        "    def test_one_table(self):\n",
        "        df = pd.read_sql('SELECT * FROM state', conn)\n",
        "        self.assertEqual(table_similarity(df, df, mode='soft'), 1)\n",
        "        self.assertEqual(table_similarity(df, df, mode='strict'), 1)\n",
        "        self.assertEqual(table_similarity(df, df, mode='flexible'), 1)\n",
        "\n",
        "    def test_two_tables_with_same_rows(self):\n",
        "        df1 = pd.read_sql('SELECT * FROM state', conn)\n",
        "        df2 = pd.read_sql('SELECT * FROM state', conn)\n",
        "        self.assertEqual(table_similarity(df1, df2, mode='soft'), 1)\n",
        "        self.assertEqual(table_similarity(df1, df2, mode='strict'), 1)\n",
        "        self.assertEqual(table_similarity(df1, df2, mode='flexible'), 1)\n",
        "\n",
        "    def test_same_rows_with_different_order(self):\n",
        "        df1 = pd.read_sql('SELECT * FROM state', conn)\n",
        "        df2 = pd.read_sql('SELECT * FROM state', conn)[::-1]\n",
        "        self.assertEqual(table_similarity(df1, df2, mode='soft'), 1)\n",
        "        self.assertEqual(table_similarity(df1, df2, mode='strict'), 0)\n",
        "        self.assertEqual(table_similarity(df1, df2, mode='flexible'), 1)\n",
        "\n",
        "    def test_with_intersection(self):\n",
        "        df1 = pd.read_sql(\n",
        "            'SELECT * FROM state where population <= 1904000', conn)\n",
        "        df2 = pd.read_sql(\n",
        "            'SELECT * FROM state where population >= 1904000', conn)\n",
        "        self.assertEqual(table_similarity(df1, df2, mode='soft'), 0)\n",
        "        self.assertEqual(table_similarity(df1, df2, mode='strict'), 0)\n",
        "        self.assertEqual(table_similarity(df1, df2, mode='flexible'), 1/81)\n",
        "\n",
        "    def test_empty_tables(self):\n",
        "        df1 = pd.read_sql('SELECT * FROM state where population < 0', conn)\n",
        "        df2 = pd.read_sql('SELECT * FROM state where population < 0', conn)\n",
        "        self.assertEqual(table_similarity(df1, df2, mode='soft'), 1)\n",
        "        self.assertEqual(table_similarity(df1, df2, mode='strict'), 1)\n",
        "        self.assertEqual(table_similarity(df1, df2, mode='flexible'), 1)\n",
        "\n",
        "    def test_absolutely_different_tables(self):\n",
        "        df1 = pd.read_sql(\n",
        "            'SELECT * FROM state where population < 1904000', conn)\n",
        "        df2 = pd.read_sql(\n",
        "            'SELECT * FROM state where population > 1904000', conn)\n",
        "        self.assertEqual(table_similarity(df1, df2, mode='soft'), 0)\n",
        "        self.assertEqual(table_similarity(df1, df2, mode='strict'), 0)\n",
        "        self.assertEqual(table_similarity(df1, df2, mode='flexible'), 0)\n",
        "\n",
        "\n",
        "TextTestRunner().run(defaultTestLoader.loadTestsFromTestCase(TestTableSimilarity))"
      ]
    }
  ],
  "metadata": {
    "accelerator": "GPU",
    "colab": {
      "gpuType": "T4",
      "provenance": []
    },
    "kaggle": {
      "accelerator": "nvidiaTeslaT4",
      "dataSources": [
        {
          "datasetId": 6212694,
          "sourceId": 10078210,
          "sourceType": "datasetVersion"
        }
      ],
      "dockerImageVersionId": 30787,
      "isGpuEnabled": true,
      "isInternetEnabled": true,
      "language": "python",
      "sourceType": "notebook"
    },
    "kernelspec": {
      "display_name": "Python 3",
      "language": "python",
      "name": "python3"
    },
    "language_info": {
      "codemirror_mode": {
        "name": "ipython",
        "version": 3
      },
      "file_extension": ".py",
      "mimetype": "text/x-python",
      "name": "python",
      "nbconvert_exporter": "python",
      "pygments_lexer": "ipython3",
      "version": "3.11.9"
    }
  },
  "nbformat": 4,
  "nbformat_minor": 0
}
