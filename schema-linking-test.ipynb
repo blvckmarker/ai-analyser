{
 "cells": [
  {
   "cell_type": "code",
   "execution_count": null,
   "metadata": {},
   "outputs": [],
   "source": [
    "from tqdm import tqdm\n",
    "import pandas as pd\n",
    "import re, time\n",
    "import numpy as np\n",
    "from utils import structure_from_connection, tables_from_connection\n",
    "from sqlalchemy import create_engine\n",
    "from sklearn.preprocessing import StandardScaler\n",
    "import matplotlib.pyplot as plt\n",
    "import sqlparse, sqlite3"
   ]
  },
  {
   "cell_type": "code",
   "execution_count": null,
   "metadata": {},
   "outputs": [],
   "source": [
    "query = r'''SELECT Артикул, Номенклатура, COUNT(*) AS sales_count\n",
    "FROM sales\n",
    "WHERE Артикул IS NOT NULL\n",
    "  AND Артикул NOT LIKE 'u%'\n",
    "  AND Хозяйственнаяоперация != 'Закрытие месяца'\n",
    "GROUP BY Артикул, Номенклатура\n",
    "ORDER BY sales_count DESC\n",
    "LIMIT 10;'''"
   ]
  },
  {
   "cell_type": "code",
   "execution_count": null,
   "metadata": {},
   "outputs": [],
   "source": [
    "from sqlalchemy import text\n",
    "\n",
    "table = pd.read_excel('2023_04_Продажи_код_артикул.xlsx')\n",
    "engine = create_engine('sqlite://', echo=False)\n",
    "table.to_sql(name='sales', con=engine)\n",
    "conn = engine.connect()"
   ]
  },
  {
   "cell_type": "code",
   "execution_count": null,
   "metadata": {},
   "outputs": [],
   "source": [
    "structure_from_connection(conn)"
   ]
  },
  {
   "cell_type": "code",
   "execution_count": null,
   "metadata": {},
   "outputs": [],
   "source": [
    "def prepare_column_names(conn : sqlite3.Connection):\n",
    "    structure = structure_from_connection(conn)\n",
    "    for table in structure:\n",
    "        for column in table['columns']:\n",
    "            if ' ' in column:\n",
    "                new_name = ''.join([char for char in column if str.isalnum(char)])\n",
    "                conn.execute(text(\n",
    "                    f'''ALTER TABLE {table['table_name']} RENAME COLUMN \"{column}\" TO {new_name}'''\n",
    "                ))"
   ]
  },
  {
   "cell_type": "code",
   "execution_count": null,
   "metadata": {},
   "outputs": [],
   "source": [
    "prepare_column_names(conn)  "
   ]
  },
  {
   "cell_type": "code",
   "execution_count": null,
   "metadata": {},
   "outputs": [],
   "source": [
    "import zss\n",
    "import sqlparse\n",
    "\n",
    "def pretty_print(node, shift):\n",
    "    print(shift + str(node))\n",
    "    shift += '    '\n",
    "    for token in node.children:\n",
    "        pretty_print(token, shift + '    ')\n",
    "\n",
    "\n",
    "class SqlNode:\n",
    "    def __init__(self, node):\n",
    "        self.children = []\n",
    "        self.raw_node = node\n",
    "        if type(node) == sqlparse.sql.Token or type(node) == sqlparse.sql.Identifier:\n",
    "            self.label = str(node.value)\n",
    "            return\n",
    "        \n",
    "        self.label = type(node).__name__\n",
    "        for token in node.tokens:\n",
    "            if token.is_whitespace:\n",
    "                continue\n",
    "\n",
    "            self.children.append(SqlNode(token))\n",
    "\n",
    "    def __repr__(self):\n",
    "        return str(type(self.raw_node)) + ' ' + self.label\n",
    "    \n",
    "    #@staticmethod\n",
    "    def get_children(self):\n",
    "        return self.children\n",
    "    \n",
    "    #@staticmethod\n",
    "    def get_label(self):\n",
    "        return self.label\n",
    "\n",
    "def dist_comp(node1, node2):\n",
    "    return int(node1 != node2)\n",
    "\n",
    "def ratio(tree1 : SqlNode, tree2 : SqlNode):\n",
    "    edit_distance = zss.simple_distance(tree1, tree2, SqlNode.get_children, SqlNode.get_label, dist_comp)\n",
    "\n",
    "    def __tree_nodes_count(root):\n",
    "        cnt = 0\n",
    "        for child in root.children:\n",
    "            cnt += __tree_nodes_count(child)\n",
    "\n",
    "        cnt += 1\n",
    "        return cnt\n",
    "    \n",
    "    max_nodes = max(__tree_nodes_count(tree1), __tree_nodes_count(tree2))\n",
    "    return max(1 - edit_distance/max_nodes, 0)"
   ]
  },
  {
   "cell_type": "code",
   "execution_count": null,
   "metadata": {},
   "outputs": [],
   "source": [
    "def parse_literals(sql : str, table_structure : list[dict]):\n",
    "    root = sqlparse.parse(sql)[0]\n",
    "    names = []\n",
    "\n",
    "    def __get_all_names_helper(node : sqlparse.sql.Token):\n",
    "        if issubclass(type(node), sqlparse.sql.TokenList):\n",
    "            for token in node.tokens:\n",
    "                __get_all_names_helper(token)\n",
    "        elif node.ttype != sqlparse.sql.T.Punctuation and node.ttype != sqlparse.sql.T.Whitespace:\n",
    "            names.append(node.value)\n",
    "\n",
    "    __get_all_names_helper(root)\n",
    "    \n",
    "    tables = set([table['table_name'] for table in table_structure])\n",
    "    visited_tables = set([])\n",
    "    buckets = {}\n",
    "    for name in names:\n",
    "        if name in tables and name not in visited_tables:\n",
    "            buckets[name] = {}\n",
    "            visited_tables.add(name)\n",
    "        elif name not in tables:\n",
    "            for table in table_structure:\n",
    "                if name in table['columns']:\n",
    "                    if table['table_name'] not in visited_tables:\n",
    "                        buckets[table['table_name']] = {name}\n",
    "                        visited_tables.add(table['table_name'])\n",
    "                    else:\n",
    "                        buckets[table['table_name']].add(name)\n",
    "    \n",
    "    return buckets"
   ]
  },
  {
   "cell_type": "code",
   "execution_count": null,
   "metadata": {},
   "outputs": [],
   "source": [
    "structure = structure_from_connection(conn)\n",
    "parse_literals(query, structure)\n",
    "\n",
    "# names = []\n",
    "\n",
    "# def __get_all_names_helper(node : sqlparse.sql.Token):\n",
    "#     if issubclass(type(node), sqlparse.sql.TokenList):\n",
    "#         for token in node.tokens:\n",
    "#             __get_all_names_helper(token)\n",
    "#     elif node.ttype != sqlparse.sql.T.Punctuation and node.ttype != sqlparse.sql.T.Whitespace:\n",
    "#         names.append(node.value)\n",
    "\n",
    "# __get_all_names_helper(sqlparse.parse(query)[0])\n",
    "\n",
    "#names"
   ]
  }
 ],
 "metadata": {
  "kernelspec": {
   "display_name": "Python 3",
   "language": "python",
   "name": "python3"
  },
  "language_info": {
   "codemirror_mode": {
    "name": "ipython",
    "version": 3
   },
   "file_extension": ".py",
   "mimetype": "text/x-python",
   "name": "python",
   "nbconvert_exporter": "python",
   "pygments_lexer": "ipython3",
   "version": "3.11.9"
  }
 },
 "nbformat": 4,
 "nbformat_minor": 2
}
